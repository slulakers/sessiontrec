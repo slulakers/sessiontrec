{
 "cells": [
  {
   "cell_type": "code",
   "execution_count": 92,
   "metadata": {},
   "outputs": [],
   "source": [
    "import UserInteractionParser as ui_parser\n",
    "from importlib import reload \n",
    "reload(ui_parser)\n",
    "import xml.dom.minidom as minidom\n",
    "\n",
    "from xml.etree.ElementTree import Element, SubElement, Comment, tostring, ElementTree\n",
    "\n",
    "def create_base_query_param(index_path=''):\n",
    "    top = Element('parameters')\n",
    "    child = SubElement(top, 'index')\n",
    "    child.text = index_path\n",
    "\n",
    "    child = SubElement(top, 'trecFormat')\n",
    "    child.text = 'true'\n",
    "    \n",
    "    child = SubElement(top, 'count')\n",
    "    child.text = '50'\n",
    "\n",
    "    child = SubElement(top, 'fbDocs')\n",
    "    child.text = '10'\n",
    "    \n",
    "    return top\n",
    "\n",
    "def format_query(query_lst):\n",
    "    query_str = '#weight ( '\n",
    "    init_weight = 2.0\n",
    "    for _, qq in enumerate(query_lst):\n",
    "        query_str += ' {} #combine ({}) '.format(init_weight, qq)\n",
    "        init_weight = init_weight * 0.5\n",
    "    query_str += ' )'\n",
    "    return query_str\n",
    "        \n",
    "\n",
    "def create_query_node(xml_root, query_text, query_no):\n",
    "    \"\"\"\n",
    "    Query Node fields: https://lemur.sourceforge.io/indri/IndriRunQuery.html\n",
    "    \"\"\"\n",
    "    query = SubElement(xml_root, 'query')\n",
    "   \n",
    "    text = SubElement(query, 'text')\n",
    "    text.text = query_text\n",
    "    \n",
    "    q_no = SubElement(query, 'number')\n",
    "    q_no.text = query_no\n",
    "\n",
    "    # Other fields which should be added are : workingSetDocno and feedbackDono\n",
    "    \n",
    "    return xml_root\n",
    "\n",
    "def create_query_params(session_track_path='/home/ec2-user/SageMaker/data/sessiontrack2012.txt', \n",
    "                        index_path='/home/ec2-user/SageMaker/indri/ClueWeb09_English_1_storeDocs_false'):\n",
    "    root = create_base_query_param(index_path=index_path)\n",
    "    query_gen = ui_parser.parse_session_queries_2012(session_track_path)\n",
    "    count = 0\n",
    "    for topic_no, current_query, parsed_interaction_lst in query_gen:\n",
    "        query_lst = [current_query]\n",
    "        parsed_interaction_lst.reverse()\n",
    "        for interaction in parsed_interaction_lst:\n",
    "            query_lst += [interaction.query]\n",
    "        \n",
    "        query_str = format_query(query_lst)\n",
    "        root = create_query_node(root, query_str, topic_no)\n",
    "        count = count + 1 \n",
    "    reparsed = minidom.parseString(tostring(root, encoding='unicode'))\n",
    "    bytes = reparsed.toprettyxml(indent=\"    \").replace(\"&quot;\", '\"').replace(\"&amp;\", '&')\n",
    "    fd = open(\"/home/ec2-user/SageMaker/data/query_param_auto.xml\", mode=\"w\")\n",
    "    fd.write(bytes)\n",
    "    fd.close()\n",
    "    #tree.write('query_param.xml', encoding='unicode')\n",
    "    #print(tostring(root, encoding='unicode'))\n",
    "        \n",
    "        \n",
    "        \n",
    "    \n",
    "    "
   ]
  },
  {
   "cell_type": "code",
   "execution_count": 93,
   "metadata": {},
   "outputs": [],
   "source": [
    "create_query_params()"
   ]
  },
  {
   "cell_type": "code",
   "execution_count": 57,
   "metadata": {},
   "outputs": [
    {
     "name": "stdout",
     "output_type": "stream",
     "text": [
      "Help on function tostring in module xml.etree.ElementTree:\n",
      "\n",
      "tostring(element, encoding=None, method=None, *, short_empty_elements=True)\n",
      "    Generate string representation of XML element.\n",
      "    \n",
      "    All subelements are included.  If encoding is \"unicode\", a string\n",
      "    is returned. Otherwise a bytestring is returned.\n",
      "    \n",
      "    *element* is an Element instance, *encoding* is an optional output\n",
      "    encoding defaulting to US-ASCII, *method* is an optional output which can\n",
      "    be one of \"xml\" (default), \"html\", \"text\" or \"c14n\".\n",
      "    \n",
      "    Returns an (optionally) encoded string containing the XML data.\n",
      "\n"
     ]
    }
   ],
   "source": [
    "help(tostring)"
   ]
  },
  {
   "cell_type": "code",
   "execution_count": null,
   "metadata": {},
   "outputs": [],
   "source": []
  }
 ],
 "metadata": {
  "kernelspec": {
   "display_name": "conda_pytorch_p36",
   "language": "python",
   "name": "conda_pytorch_p36"
  },
  "language_info": {
   "codemirror_mode": {
    "name": "ipython",
    "version": 3
   },
   "file_extension": ".py",
   "mimetype": "text/x-python",
   "name": "python",
   "nbconvert_exporter": "python",
   "pygments_lexer": "ipython3",
   "version": "3.6.5"
  }
 },
 "nbformat": 4,
 "nbformat_minor": 4
}
